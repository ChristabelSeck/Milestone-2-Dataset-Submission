{
  "nbformat": 4,
  "nbformat_minor": 0,
  "metadata": {
    "colab": {
      "provenance": []
    },
    "kernelspec": {
      "name": "python3",
      "display_name": "Python 3"
    },
    "language_info": {
      "name": "python"
    }
  },
  "cells": [
    {
      "cell_type": "code",
      "source": [
        "!pip install pandas"
      ],
      "metadata": {
        "id": "x7Ucf268HgHI",
        "colab": {
          "base_uri": "https://localhost:8080/"
        },
        "outputId": "77701cdb-d294-4532-dff4-5529aa2bd1eb"
      },
      "execution_count": 13,
      "outputs": [
        {
          "output_type": "stream",
          "name": "stdout",
          "text": [
            "Requirement already satisfied: pandas in /usr/local/lib/python3.10/dist-packages (2.0.3)\n",
            "Requirement already satisfied: python-dateutil>=2.8.2 in /usr/local/lib/python3.10/dist-packages (from pandas) (2.8.2)\n",
            "Requirement already satisfied: pytz>=2020.1 in /usr/local/lib/python3.10/dist-packages (from pandas) (2023.4)\n",
            "Requirement already satisfied: tzdata>=2022.1 in /usr/local/lib/python3.10/dist-packages (from pandas) (2024.1)\n",
            "Requirement already satisfied: numpy>=1.21.0 in /usr/local/lib/python3.10/dist-packages (from pandas) (1.25.2)\n",
            "Requirement already satisfied: six>=1.5 in /usr/local/lib/python3.10/dist-packages (from python-dateutil>=2.8.2->pandas) (1.16.0)\n"
          ]
        }
      ]
    },
    {
      "cell_type": "code",
      "source": [
        "import random\n",
        "import pandas as pd\n",
        "from operator import itemgetter"
      ],
      "metadata": {
        "id": "udWJx7CqFN2X"
      },
      "execution_count": 14,
      "outputs": []
    },
    {
      "cell_type": "code",
      "source": [
        "# Download the \"vehicle_data.csv\" and upload that file to the local directory before running this section\n",
        "\n",
        "# Step 1: Read vehicle emissions data from static csv database into a nested dictionary for computation\n",
        "def csv_to_nested_dict_pandas(filename):\n",
        "    df = pd.read_csv(filename)\n",
        "    return df.groupby('vehicle_model').apply(lambda x: x.to_dict(orient='records')).to_dict()\n",
        "\n",
        "\n",
        "vehicle_data_dict = csv_to_nested_dict_pandas('/content/vehicle_data.csv')"
      ],
      "metadata": {
        "id": "eUAnSXxkiY9Q"
      },
      "execution_count": 15,
      "outputs": []
    },
    {
      "cell_type": "code",
      "source": [
        "# Step 2: Define \"mock\" google maps api function to generates a random distance\n",
        "def google_maps_distance_km():\n",
        "    return round(random.random() * 50, 2)"
      ],
      "metadata": {
        "id": "OzZCU3zriaif"
      },
      "execution_count": 16,
      "outputs": []
    },
    {
      "cell_type": "code",
      "source": [
        "# Step 3: Define \"mock\" google maps api function to calculate the time taken for different vehicle types to travel\n",
        "def google_maps_time_taken(input_distance, vehicle_model):\n",
        "    return round(input_distance / vehicle_data_dict[vehicle_model][0][\"speed_km/hr\"], 2)"
      ],
      "metadata": {
        "id": "TPFJR2qUicMs"
      },
      "execution_count": 17,
      "outputs": []
    },
    {
      "cell_type": "code",
      "source": [
        "# Step 4: Define user profile. Relevant variables are the car_model, which will be fixed as the same throughout this algorithm, and the CO2 quota remaining.\n",
        "user_profile = {\n",
        "    \"user_car_model\": \"Toyota Corolla\", # i am just assuming its just this car model bc headache\n",
        "    \"CO2_quota_remaining\": 50,\n",
        "    \"weekly_CO2_quota_set\": 50\n",
        "}"
      ],
      "metadata": {
        "id": "icgvDRktidlr"
      },
      "execution_count": 18,
      "outputs": []
    },
    {
      "cell_type": "code",
      "source": [
        "# Step 5: Ask user for input starting and destination locations and generate a distance with our mock google maps api\n",
        "location_1 = input(\"Insert starting location: \")\n",
        "location_2 = input(\"Insert destination: \")\n",
        "distance = google_maps_distance_km()"
      ],
      "metadata": {
        "id": "Xuy7jHsTifrW",
        "colab": {
          "base_uri": "https://localhost:8080/"
        },
        "outputId": "91948089-ddb4-4546-ee6b-2994996e02a4"
      },
      "execution_count": 19,
      "outputs": [
        {
          "name": "stdout",
          "output_type": "stream",
          "text": [
            "Insert starting location: Geylang\n",
            "Insert destination: Woodlands\n"
          ]
        }
      ]
    },
    {
      "cell_type": "code",
      "source": [
        "# Step 6: Define function to calculate total carbon emissions for given duration of journey and vehicle used\n",
        "def emissions_per_trip(time_taken, vehicle_model):\n",
        "    return round(time_taken * vehicle_data_dict[vehicle_model][0][\"emissions_per_hour_kg\"], 1)"
      ],
      "metadata": {
        "id": "EukHIyCZihb5"
      },
      "execution_count": 20,
      "outputs": []
    },
    {
      "cell_type": "code",
      "source": [
        "# Step 7: Calculate the time_taken and emissions for each vehicle to travel the given distance, tabulating the data into a nested dictionary\n",
        "route_data_dict = {\n",
        "    \"Car\": {\n",
        "        \"time_taken\": google_maps_time_taken(distance, user_profile[\"user_car_model\"]),\n",
        "        \"emissions\": emissions_per_trip(google_maps_time_taken(distance, user_profile[\"user_car_model\"]), user_profile[\"user_car_model\"])\n",
        "    },\n",
        "    \"Public Transport\": {\n",
        "        \"time_taken\": round(google_maps_time_taken(distance / 2, \"Public Bus\") + google_maps_time_taken(distance / 2, \"MRT\"), 2),\n",
        "        \"emissions\": round(emissions_per_trip(google_maps_time_taken(distance / 2, \"Public Bus\"), \"Public Bus\") + emissions_per_trip(google_maps_time_taken(distance / 2, \"MRT\"), \"MRT\"), 2)\n",
        "    },\n",
        "    # assumes that for each public transport journey, half is by bus, the other half is by MRT\n",
        "    \"Walking\": {\n",
        "        \"time_taken\": google_maps_time_taken(distance, \"Walking\"),\n",
        "        \"emissions\": 0\n",
        "    },\n",
        "    \"Bicycle\": {\n",
        "        \"time_taken\": google_maps_time_taken(distance, \"Bicycle\"),\n",
        "        \"emissions\": 0\n",
        "    }\n",
        "}"
      ],
      "metadata": {
        "id": "xnh-Vym8jTDN"
      },
      "execution_count": 21,
      "outputs": []
    },
    {
      "cell_type": "code",
      "source": [
        "# Step 8: Ranking algorithm\n",
        "route_data_list = []\n",
        "for key in route_data_dict:\n",
        "    route_data_dict[key][\"name\"] = key\n",
        "    route_data_list.append(route_data_dict[key])\n",
        "# Converts the nested dictionary into a list (a variable type which can be ordered)\n",
        "\n",
        "sorted_route_data_list = sorted(route_data_list, key=itemgetter(\"emissions\", \"time_taken\"))\n",
        "# Sorts the list of different possible routes in descending order by emissions, then by time taken, such that tie-breakers in emissions will be broken by comparing the time taken\n",
        "shortest_time_taken = sorted(route_data_list, key=itemgetter(\"time_taken\"))[0][\"time_taken\"]\n",
        "\n",
        "for route in sorted_route_data_list[:]:\n",
        "    if route[\"time_taken\"] - shortest_time_taken > 1:\n",
        "        sorted_route_data_list.remove(route)\n",
        "        sorted_route_data_list.append(route)\n",
        "# To ensure that the algorithm does not keep recommending walking for an absurdly long period of time, our sorting algorithm features this component where if the route's time taken is longer than the time taken by the fastest route by an hour or more, the algorithm will demote the ranking of that route to the end of the list.\n",
        "# Because of the earlier sorting by both emissions and time taken, the bicycle route will always be recommended over the walking route due to its faster speed, which is what we want."
      ],
      "metadata": {
        "id": "0kyhHXmijWKE"
      },
      "execution_count": 22,
      "outputs": []
    },
    {
      "cell_type": "code",
      "source": [
        "# Step 9: Output interface showing the ranking of the different routes\n",
        "print(f\"\"\"\n",
        "[APP OUTPUT INTERFACE]\n",
        "Starting Location: {location_1}\n",
        "Destination: {location_2}\n",
        "Distance: {distance} km\n",
        "---------------------\"\"\")\n",
        "for n in range(0,len(sorted_route_data_list)):\n",
        "    print(f\"\"\"Rank {n + 1}: {sorted_route_data_list[n][\"name\"]}\n",
        "Est. Duration: {sorted_route_data_list[n][\"time_taken\"]} hrs\n",
        "Emissions: {sorted_route_data_list[n][\"emissions\"]} kg of CO2\n",
        "\"\"\")"
      ],
      "metadata": {
        "id": "JYdT8U6BjdKN",
        "colab": {
          "base_uri": "https://localhost:8080/"
        },
        "outputId": "2c7d87cf-b6fa-45c7-8918-59e3baeaf4e1"
      },
      "execution_count": 23,
      "outputs": [
        {
          "output_type": "stream",
          "name": "stdout",
          "text": [
            "\n",
            "[APP OUTPUT INTERFACE]\n",
            "Starting Location: Geylang\n",
            "Destination: Woodlands\n",
            "Distance: 24.65 km\n",
            "---------------------\n",
            "Rank 1: Public Transport\n",
            "Est. Duration: 0.66 hrs\n",
            "Emissions: 1.0 kg of CO2\n",
            "\n",
            "Rank 2: Car\n",
            "Est. Duration: 0.49 hrs\n",
            "Emissions: 4.9 kg of CO2\n",
            "\n",
            "Rank 3: Bicycle\n",
            "Est. Duration: 1.64 hrs\n",
            "Emissions: 0 kg of CO2\n",
            "\n",
            "Rank 4: Walking\n",
            "Est. Duration: 4.93 hrs\n",
            "Emissions: 0 kg of CO2\n",
            "\n"
          ]
        }
      ]
    },
    {
      "cell_type": "code",
      "execution_count": 24,
      "metadata": {
        "colab": {
          "base_uri": "https://localhost:8080/"
        },
        "id": "Qu9d4BlcE9US",
        "outputId": "b4fe2ef6-091d-4f9d-d43f-42ba4deceb1f"
      },
      "outputs": [
        {
          "output_type": "stream",
          "name": "stdout",
          "text": [
            "Which route will you take? Only key in a single number from '1' - '4': 1\n",
            "\n",
            "The amount of carbon emissions you have left for the week is: 49.0 kg out of 50\n",
            "\n"
          ]
        }
      ],
      "source": [
        "# Step 10: Prompting users to choose the route and subtracting the quota from carbon emissions left for the week.\n",
        "user_choice_index = int(input(\"Which route will you take? Only key in a single number from '1' - '4': \")) - 1\n",
        "user_profile[\"CO2_quota_remaining\"] -= sorted_route_data_list[user_choice_index][\"emissions\"]\n",
        "print(f\"\"\"\n",
        "The amount of carbon emissions you have left for the week is: {user_profile[\"CO2_quota_remaining\"]} kg out of {user_profile[\"weekly_CO2_quota_set\"]}\n",
        "\"\"\")\n"
      ]
    }
  ]
}